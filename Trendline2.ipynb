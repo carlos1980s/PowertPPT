{
  "nbformat": 4,
  "nbformat_minor": 0,
  "metadata": {
    "colab": {
      "provenance": [],
      "toc_visible": true,
      "authorship_tag": "ABX9TyMG090VPw3GvShZbOTrieou",
      "include_colab_link": true
    },
    "kernelspec": {
      "name": "python3",
      "display_name": "Python 3"
    },
    "language_info": {
      "name": "python"
    }
  },
  "cells": [
    {
      "cell_type": "markdown",
      "metadata": {
        "id": "view-in-github",
        "colab_type": "text"
      },
      "source": [
        "<a href=\"https://colab.research.google.com/github/carlos1980s/PowertPPT/blob/main/Trendline2.ipynb\" target=\"_parent\"><img src=\"https://colab.research.google.com/assets/colab-badge.svg\" alt=\"Open In Colab\"/></a>"
      ]
    },
    {
      "cell_type": "code",
      "execution_count": null,
      "metadata": {
        "id": "a7YSYG7XO-Lc"
      },
      "outputs": [],
      "source": []
    },
    {
      "cell_type": "code",
      "source": [
        "pip install python-pptx pandas\n"
      ],
      "metadata": {
        "colab": {
          "base_uri": "https://localhost:8080/"
        },
        "id": "l-qBdTWOPLJA",
        "outputId": "78955355-e6a8-4865-f1c4-8c79cd4c2d0d"
      },
      "execution_count": 1,
      "outputs": [
        {
          "output_type": "stream",
          "name": "stdout",
          "text": [
            "Looking in indexes: https://pypi.org/simple, https://us-python.pkg.dev/colab-wheels/public/simple/\n",
            "Collecting python-pptx\n",
            "  Downloading python-pptx-0.6.21.tar.gz (10.1 MB)\n",
            "\u001b[2K     \u001b[90m━━━━━━━━━━━━━━━━━━━━━━━━━━━━━━━━━━━━━━━━\u001b[0m \u001b[32m10.1/10.1 MB\u001b[0m \u001b[31m33.2 MB/s\u001b[0m eta \u001b[36m0:00:00\u001b[0m\n",
            "\u001b[?25h  Preparing metadata (setup.py) ... \u001b[?25l\u001b[?25hdone\n",
            "Requirement already satisfied: pandas in /usr/local/lib/python3.9/dist-packages (1.5.3)\n",
            "Requirement already satisfied: lxml>=3.1.0 in /usr/local/lib/python3.9/dist-packages (from python-pptx) (4.9.2)\n",
            "Requirement already satisfied: Pillow>=3.3.2 in /usr/local/lib/python3.9/dist-packages (from python-pptx) (8.4.0)\n",
            "Collecting XlsxWriter>=0.5.7\n",
            "  Downloading XlsxWriter-3.0.9-py3-none-any.whl (152 kB)\n",
            "\u001b[2K     \u001b[90m━━━━━━━━━━━━━━━━━━━━━━━━━━━━━━━━━━━━━━━\u001b[0m \u001b[32m152.8/152.8 kB\u001b[0m \u001b[31m3.6 MB/s\u001b[0m eta \u001b[36m0:00:00\u001b[0m\n",
            "\u001b[?25hRequirement already satisfied: numpy>=1.20.3 in /usr/local/lib/python3.9/dist-packages (from pandas) (1.22.4)\n",
            "Requirement already satisfied: python-dateutil>=2.8.1 in /usr/local/lib/python3.9/dist-packages (from pandas) (2.8.2)\n",
            "Requirement already satisfied: pytz>=2020.1 in /usr/local/lib/python3.9/dist-packages (from pandas) (2022.7.1)\n",
            "Requirement already satisfied: six>=1.5 in /usr/local/lib/python3.9/dist-packages (from python-dateutil>=2.8.1->pandas) (1.16.0)\n",
            "Building wheels for collected packages: python-pptx\n",
            "  Building wheel for python-pptx (setup.py) ... \u001b[?25l\u001b[?25hdone\n",
            "  Created wheel for python-pptx: filename=python_pptx-0.6.21-py3-none-any.whl size=470949 sha256=740e6dd38b5bf458a3d4d3f332811543c971b5c04acdefa2f51c0d75ec8022f9\n",
            "  Stored in directory: /root/.cache/pip/wheels/0e/4a/ed/9653bc799915f52dce3f04d14946fbd85cce9c3cdedc9cfa71\n",
            "Successfully built python-pptx\n",
            "Installing collected packages: XlsxWriter, python-pptx\n",
            "Successfully installed XlsxWriter-3.0.9 python-pptx-0.6.21\n"
          ]
        }
      ]
    },
    {
      "cell_type": "code",
      "source": [
        "from pptx import Presentation\n",
        "from pptx.util import Inches, Pt\n",
        "from pptx.dml.color import RGBColor\n",
        "\n",
        "# Create a new presentation\n",
        "prs = Presentation()\n",
        "\n",
        "# Add a new slide\n",
        "slide = prs.slides.add_slide(prs.slide_layouts[6])\n",
        "\n",
        "# Define the data for the trendline\n",
        "values = [20, 25, 18, 32, 27, 24, 30, 26, 34, 28]\n",
        "\n",
        "# Define the starting x and y coordinates for the trendline\n",
        "x = Inches(1)\n",
        "y = Inches(2)\n",
        "line_length = Inches(6)\n",
        "\n",
        "# Add the trendline to the slide\n",
        "slide.shapes.add_shape(\n",
        "    'line',\n",
        "    x,\n",
        "    y,\n",
        "    line_length,\n",
        "    0\n",
        ")\n",
        "\n",
        "# Add the increment/decrement indicators to the trendline\n",
        "for i in range(1, len(values)):\n",
        "    # Calculate the x and y coordinates for the indicator line\n",
        "    x1 = x + (line_length / (len(values) - 1)) * (i - 1)\n",
        "    x2 = x + (line_length / (len(values) - 1)) * i\n",
        "    y1 = y - ((values[i - 1] - min(values)) / (max(values) - min(values))) * Inches(2)\n",
        "    y2 = y - ((values[i] - min(values)) / (max(values) - min(values))) * Inches(2)\n",
        "\n",
        "    # Determine the color of the indicator line\n",
        "    color = RGBColor(0, 128, 0) if values[i] > values[i - 1] else RGBColor(255, 0, 0)\n",
        "\n",
        "    # Add the indicator line to the slide\n",
        "    line = slide.shapes.add_connector('straight', x1, y1, x2, y2).line\n",
        "    line.width = Inches(0.02)\n",
        "    line.fill.solid()\n",
        "    line.fill.fore_color.rgb = color\n",
        "\n",
        "    # Add the delta value to the indicator line\n",
        "    delta = values[i] - values[i - 1]\n",
        "    delta_shape = slide.shapes.add_shape(\n",
        "        'rectangle',\n",
        "        (x1 + x2) / 2 - Inches(0.2),\n",
        "        y2 - Inches(0.2),\n",
        "        Inches(0.4),\n",
        "        Inches(0.4)\n",
        "    )\n",
        "    delta_shape.text = f'{delta:+}'\n",
        "    delta_shape.text_frame.paragraphs[0].font.size = Pt(12)\n",
        "    delta_shape.text_frame.paragraphs[0].font.color.rgb = color\n",
        "\n",
        "# Save the presentation\n",
        "prs.save('trendline.pptx')\n"
      ],
      "metadata": {
        "colab": {
          "base_uri": "https://localhost:8080/",
          "height": 381
        },
        "id": "iIfzQPW-U9NM",
        "outputId": "bfcefcc3-398e-4cd5-f0f8-7d74a205c4aa"
      },
      "execution_count": 4,
      "outputs": [
        {
          "output_type": "error",
          "ename": "KeyError",
          "evalue": "ignored",
          "traceback": [
            "\u001b[0;31m---------------------------------------------------------------------------\u001b[0m",
            "\u001b[0;31mKeyError\u001b[0m                                  Traceback (most recent call last)",
            "\u001b[0;32m<ipython-input-4-b0b4dad42a91>\u001b[0m in \u001b[0;36m<cell line: 20>\u001b[0;34m()\u001b[0m\n\u001b[1;32m     18\u001b[0m \u001b[0;34m\u001b[0m\u001b[0m\n\u001b[1;32m     19\u001b[0m \u001b[0;31m# Add the trendline to the slide\u001b[0m\u001b[0;34m\u001b[0m\u001b[0;34m\u001b[0m\u001b[0m\n\u001b[0;32m---> 20\u001b[0;31m slide.shapes.add_shape(\n\u001b[0m\u001b[1;32m     21\u001b[0m     \u001b[0;34m'line'\u001b[0m\u001b[0;34m,\u001b[0m\u001b[0;34m\u001b[0m\u001b[0;34m\u001b[0m\u001b[0m\n\u001b[1;32m     22\u001b[0m     \u001b[0mx\u001b[0m\u001b[0;34m,\u001b[0m\u001b[0;34m\u001b[0m\u001b[0;34m\u001b[0m\u001b[0m\n",
            "\u001b[0;32m/usr/local/lib/python3.9/dist-packages/pptx/shapes/shapetree.py\u001b[0m in \u001b[0;36madd_shape\u001b[0;34m(self, autoshape_type_id, left, top, width, height)\u001b[0m\n\u001b[1;32m    342\u001b[0m         \u001b[0mremaining\u001b[0m \u001b[0marguments\u001b[0m \u001b[0mspecify\u001b[0m \u001b[0mthe\u001b[0m \u001b[0mnew\u001b[0m \u001b[0mshape\u001b[0m\u001b[0;31m'\u001b[0m\u001b[0ms\u001b[0m \u001b[0mposition\u001b[0m \u001b[0;32mand\u001b[0m \u001b[0msize\u001b[0m\u001b[0;34m.\u001b[0m\u001b[0;34m\u001b[0m\u001b[0;34m\u001b[0m\u001b[0m\n\u001b[1;32m    343\u001b[0m         \"\"\"\n\u001b[0;32m--> 344\u001b[0;31m         \u001b[0mautoshape_type\u001b[0m \u001b[0;34m=\u001b[0m \u001b[0mAutoShapeType\u001b[0m\u001b[0;34m(\u001b[0m\u001b[0mautoshape_type_id\u001b[0m\u001b[0;34m)\u001b[0m\u001b[0;34m\u001b[0m\u001b[0;34m\u001b[0m\u001b[0m\n\u001b[0m\u001b[1;32m    345\u001b[0m         \u001b[0msp\u001b[0m \u001b[0;34m=\u001b[0m \u001b[0mself\u001b[0m\u001b[0;34m.\u001b[0m\u001b[0m_add_sp\u001b[0m\u001b[0;34m(\u001b[0m\u001b[0mautoshape_type\u001b[0m\u001b[0;34m,\u001b[0m \u001b[0mleft\u001b[0m\u001b[0;34m,\u001b[0m \u001b[0mtop\u001b[0m\u001b[0;34m,\u001b[0m \u001b[0mwidth\u001b[0m\u001b[0;34m,\u001b[0m \u001b[0mheight\u001b[0m\u001b[0;34m)\u001b[0m\u001b[0;34m\u001b[0m\u001b[0;34m\u001b[0m\u001b[0m\n\u001b[1;32m    346\u001b[0m         \u001b[0mself\u001b[0m\u001b[0;34m.\u001b[0m\u001b[0m_recalculate_extents\u001b[0m\u001b[0;34m(\u001b[0m\u001b[0;34m)\u001b[0m\u001b[0;34m\u001b[0m\u001b[0;34m\u001b[0m\u001b[0m\n",
            "\u001b[0;32m/usr/local/lib/python3.9/dist-packages/pptx/shapes/autoshape.py\u001b[0m in \u001b[0;36m__init__\u001b[0;34m(self, autoshape_type_id)\u001b[0m\n\u001b[1;32m    216\u001b[0m         \u001b[0;31m# raise on bad autoshape_type_id\u001b[0m\u001b[0;34m\u001b[0m\u001b[0;34m\u001b[0m\u001b[0m\n\u001b[1;32m    217\u001b[0m         \u001b[0;32mif\u001b[0m \u001b[0mautoshape_type_id\u001b[0m \u001b[0;32mnot\u001b[0m \u001b[0;32min\u001b[0m \u001b[0mautoshape_types\u001b[0m\u001b[0;34m:\u001b[0m\u001b[0;34m\u001b[0m\u001b[0;34m\u001b[0m\u001b[0m\n\u001b[0;32m--> 218\u001b[0;31m             raise KeyError(\n\u001b[0m\u001b[1;32m    219\u001b[0m                 \u001b[0;34m\"no autoshape type with id '%s' in pptx.spec.autoshape_types\"\u001b[0m\u001b[0;34m\u001b[0m\u001b[0;34m\u001b[0m\u001b[0m\n\u001b[1;32m    220\u001b[0m                 \u001b[0;34m%\u001b[0m \u001b[0mautoshape_type_id\u001b[0m\u001b[0;34m\u001b[0m\u001b[0;34m\u001b[0m\u001b[0m\n",
            "\u001b[0;31mKeyError\u001b[0m: \"no autoshape type with id 'line' in pptx.spec.autoshape_types\""
          ]
        }
      ]
    },
    {
      "cell_type": "code",
      "source": [
        "from pptx import Presentation\n",
        "from pptx.util import Inches\n",
        "from pptx.enum.dml import MSO_LINE\n",
        "\n",
        "# Create a new PowerPoint presentation\n",
        "prs = Presentation()\n",
        "\n",
        "# Add a new slide\n",
        "slide = prs.slides.add_slide(prs.slide_layouts[5])\n",
        "\n",
        "# Add chart data\n",
        "values = [2.5, 2.7, 2.9, 3.2, 3.5, 3.8, 4.2, 4.6, 5.0]\n",
        "x = [i for i in range(1, len(values) + 1)]\n",
        "\n",
        "# Add the chart to the slide\n",
        "chart_data = ChartData()\n",
        "chart_data.categories = x\n",
        "chart_data.add_series('Series 1', values)\n",
        "x, y, cx, cy = Inches(1), Inches(1), Inches(8), Inches(4.5)\n",
        "chart = slide.shapes.add_chart(\n",
        "    XL_CHART_TYPE.LINE, x, y, cx, cy, chart_data\n",
        ").chart\n",
        "\n",
        "# Add a trendline\n",
        "trendline = chart.series[0].trendlines.add(MSO_TRENDLINE_TYPE.LINEAR)\n",
        "\n",
        "# Get the trendline equation and display it on the chart\n",
        "equation = trendline.display_equation\n",
        "equation_pos = trendline.display_equation_pos\n",
        "equation_frame = chart.plots[0].shapes.add_textbox(\n",
        "    equation_pos[0], equation_pos[1], equation_pos[2], equation_pos[3]\n",
        ")\n",
        "equation_frame.text = equation\n",
        "\n",
        "# Add a connector to represent the trendline\n",
        "x1, y1 = chart.series[0].points[0].left, trendline.points[0].top\n",
        "x2, y2 = chart.series[0].points[-1].left, trendline.points[-1].top\n",
        "line = slide.shapes.add_connector(MSO_CONNECTOR.STRAIGHT, x1, y1, x2, y2).line\n",
        "line.width = Inches(0.03)\n",
        "line.fill.solid()\n",
        "line.fill.fore_color.rgb = RGBColor(0, 0, 0)\n",
        "\n",
        "# Save the presentation\n",
        "prs.save('trendline.pptx')\n"
      ],
      "metadata": {
        "colab": {
          "base_uri": "https://localhost:8080/",
          "height": 236
        },
        "id": "oVDUodbmVOzP",
        "outputId": "8826284d-4d4c-44a6-b899-d02eb628ecdb"
      },
      "execution_count": 5,
      "outputs": [
        {
          "output_type": "error",
          "ename": "AttributeError",
          "evalue": "ignored",
          "traceback": [
            "\u001b[0;31m---------------------------------------------------------------------------\u001b[0m",
            "\u001b[0;31mAttributeError\u001b[0m                            Traceback (most recent call last)",
            "\u001b[0;32m<ipython-input-5-bfbcb434b10d>\u001b[0m in \u001b[0;36m<cell line: 25>\u001b[0;34m()\u001b[0m\n\u001b[1;32m     23\u001b[0m \u001b[0;34m\u001b[0m\u001b[0m\n\u001b[1;32m     24\u001b[0m \u001b[0;31m# Add a trendline\u001b[0m\u001b[0;34m\u001b[0m\u001b[0;34m\u001b[0m\u001b[0m\n\u001b[0;32m---> 25\u001b[0;31m \u001b[0mtrendline\u001b[0m \u001b[0;34m=\u001b[0m \u001b[0mchart\u001b[0m\u001b[0;34m.\u001b[0m\u001b[0mseries\u001b[0m\u001b[0;34m[\u001b[0m\u001b[0;36m0\u001b[0m\u001b[0;34m]\u001b[0m\u001b[0;34m.\u001b[0m\u001b[0mtrendlines\u001b[0m\u001b[0;34m.\u001b[0m\u001b[0madd\u001b[0m\u001b[0;34m(\u001b[0m\u001b[0mMSO_TRENDLINE_TYPE\u001b[0m\u001b[0;34m.\u001b[0m\u001b[0mLINEAR\u001b[0m\u001b[0;34m)\u001b[0m\u001b[0;34m\u001b[0m\u001b[0;34m\u001b[0m\u001b[0m\n\u001b[0m\u001b[1;32m     26\u001b[0m \u001b[0;34m\u001b[0m\u001b[0m\n\u001b[1;32m     27\u001b[0m \u001b[0;31m# Get the trendline equation and display it on the chart\u001b[0m\u001b[0;34m\u001b[0m\u001b[0;34m\u001b[0m\u001b[0m\n",
            "\u001b[0;31mAttributeError\u001b[0m: 'LineSeries' object has no attribute 'trendlines'"
          ]
        }
      ]
    },
    {
      "cell_type": "code",
      "source": [
        "from pptx import Presentation\n",
        "from pptx.chart.data import CategoryChartData\n",
        "from pptx.enum.chart import XL_CHART_TYPE, XL_TICK_MARK\n",
        "from pptx.enum.chart import XL_LABEL_POSITION, MSO_TRENDLINE_TYPE\n",
        "from pptx.util import Inches\n",
        "\n",
        "# Create a presentation\n",
        "prs = Presentation()\n",
        "\n",
        "# Define the chart data\n",
        "chart_data = CategoryChartData()\n",
        "chart_data.categories = ['Q1 Sales', 'Q2 Sales', 'Q3 Sales', 'Q4 Sales']\n",
        "chart_data.add_series('Sales', (19.2, 21.4, 16.7, 22.3))\n",
        "\n",
        "# Add a slide to the presentation\n",
        "slide = prs.slides.add_slide(prs.slide_layouts[5])\n",
        "\n",
        "# Add a chart to the slide\n",
        "chart = slide.shapes.add_chart(\n",
        "    XL_CHART_TYPE.COLUMN_CLUSTERED, Inches(1), Inches(1), Inches(8), Inches(4.5), chart_data\n",
        ").chart\n",
        "\n",
        "# Set the axis tick marks\n",
        "category_axis = chart.category_axis\n",
        "category_axis.tick_mark = XL_TICK_MARK.OUTSIDE\n",
        "category_axis.tick_label_position = XL_LABEL_POSITION.LOW\n",
        "\n",
        "value_axis = chart.value_axis\n",
        "value_axis.tick_mark = XL_TICK_MARK.OUTSIDE\n",
        "\n",
        "# Add a trendline\n",
        "series = chart.series[0]\n",
        "trendline = series.trendlines.add(MSO_TRENDLINE_TYPE.LINEAR)\n",
        "\n",
        "# Get the trendline equation and display it on the chart\n",
        "trendline_equation = trendline.data_label.text_frame.text = trendline.formula\n",
        "trendline_equation_frame = trendline.data_label.text_frame\n",
        "trendline_equation_frame.auto_size = True\n",
        "\n",
        "# Save the presentation\n",
        "prs.save('chart_with_trendline.pptx')\n"
      ],
      "metadata": {
        "colab": {
          "base_uri": "https://localhost:8080/",
          "height": 374
        },
        "id": "NSpNx94sVadT",
        "outputId": "53879356-2502-45b4-b769-de13ce2590c4"
      },
      "execution_count": 8,
      "outputs": [
        {
          "output_type": "error",
          "ename": "ImportError",
          "evalue": "ignored",
          "traceback": [
            "\u001b[0;31m---------------------------------------------------------------------------\u001b[0m",
            "\u001b[0;31mImportError\u001b[0m                               Traceback (most recent call last)",
            "\u001b[0;32m<ipython-input-8-3e3bcbc8ce74>\u001b[0m in \u001b[0;36m<cell line: 4>\u001b[0;34m()\u001b[0m\n\u001b[1;32m      2\u001b[0m \u001b[0;32mfrom\u001b[0m \u001b[0mpptx\u001b[0m\u001b[0;34m.\u001b[0m\u001b[0mchart\u001b[0m\u001b[0;34m.\u001b[0m\u001b[0mdata\u001b[0m \u001b[0;32mimport\u001b[0m \u001b[0mCategoryChartData\u001b[0m\u001b[0;34m\u001b[0m\u001b[0;34m\u001b[0m\u001b[0m\n\u001b[1;32m      3\u001b[0m \u001b[0;32mfrom\u001b[0m \u001b[0mpptx\u001b[0m\u001b[0;34m.\u001b[0m\u001b[0menum\u001b[0m\u001b[0;34m.\u001b[0m\u001b[0mchart\u001b[0m \u001b[0;32mimport\u001b[0m \u001b[0mXL_CHART_TYPE\u001b[0m\u001b[0;34m,\u001b[0m \u001b[0mXL_TICK_MARK\u001b[0m\u001b[0;34m\u001b[0m\u001b[0;34m\u001b[0m\u001b[0m\n\u001b[0;32m----> 4\u001b[0;31m \u001b[0;32mfrom\u001b[0m \u001b[0mpptx\u001b[0m\u001b[0;34m.\u001b[0m\u001b[0menum\u001b[0m\u001b[0;34m.\u001b[0m\u001b[0mchart\u001b[0m \u001b[0;32mimport\u001b[0m \u001b[0mXL_LABEL_POSITION\u001b[0m\u001b[0;34m,\u001b[0m \u001b[0mMSO_TRENDLINE_TYPE\u001b[0m\u001b[0;34m\u001b[0m\u001b[0;34m\u001b[0m\u001b[0m\n\u001b[0m\u001b[1;32m      5\u001b[0m \u001b[0;32mfrom\u001b[0m \u001b[0mpptx\u001b[0m\u001b[0;34m.\u001b[0m\u001b[0mutil\u001b[0m \u001b[0;32mimport\u001b[0m \u001b[0mInches\u001b[0m\u001b[0;34m\u001b[0m\u001b[0;34m\u001b[0m\u001b[0m\n\u001b[1;32m      6\u001b[0m \u001b[0;34m\u001b[0m\u001b[0m\n",
            "\u001b[0;31mImportError\u001b[0m: cannot import name 'MSO_TRENDLINE_TYPE' from 'pptx.enum.chart' (/usr/local/lib/python3.9/dist-packages/pptx/enum/chart.py)",
            "",
            "\u001b[0;31m---------------------------------------------------------------------------\u001b[0;32m\nNOTE: If your import is failing due to a missing package, you can\nmanually install dependencies using either !pip or !apt.\n\nTo view examples of installing some common dependencies, click the\n\"Open Examples\" button below.\n\u001b[0;31m---------------------------------------------------------------------------\u001b[0m\n"
          ],
          "errorDetails": {
            "actions": [
              {
                "action": "open_url",
                "actionText": "Open Examples",
                "url": "/notebooks/snippets/importing_libraries.ipynb"
              }
            ]
          }
        }
      ]
    },
    {
      "cell_type": "code",
      "source": [
        "!pip install --upgrade python-pptx\n"
      ],
      "metadata": {
        "colab": {
          "base_uri": "https://localhost:8080/"
        },
        "id": "fhyLIVkyVk14",
        "outputId": "ad07b427-dd76-46b6-ce63-f9fc016d833a"
      },
      "execution_count": 7,
      "outputs": [
        {
          "output_type": "stream",
          "name": "stdout",
          "text": [
            "Looking in indexes: https://pypi.org/simple, https://us-python.pkg.dev/colab-wheels/public/simple/\n",
            "Requirement already satisfied: python-pptx in /usr/local/lib/python3.9/dist-packages (0.6.21)\n",
            "Requirement already satisfied: lxml>=3.1.0 in /usr/local/lib/python3.9/dist-packages (from python-pptx) (4.9.2)\n",
            "Requirement already satisfied: XlsxWriter>=0.5.7 in /usr/local/lib/python3.9/dist-packages (from python-pptx) (3.0.9)\n",
            "Requirement already satisfied: Pillow>=3.3.2 in /usr/local/lib/python3.9/dist-packages (from python-pptx) (8.4.0)\n"
          ]
        }
      ]
    },
    {
      "cell_type": "code",
      "source": [
        "from openpyxl import Workbook\n",
        "from openpyxl.chart import (\n",
        "    ScatterChart,\n",
        "    Reference,\n",
        "    Series,\n",
        "    Trendline,\n",
        "    TrendlineType,\n",
        "    Marker,\n",
        ")\n",
        "from openpyxl.chart.axis import DateAxis\n",
        "from openpyxl.chart.label import DataLabelList\n",
        "from pptx import Presentation\n",
        "from pptx.util import Inches\n",
        "\n",
        "\n",
        "# Create a new Excel workbook\n",
        "wb = Workbook()\n",
        "ws = wb.active\n",
        "\n",
        "# Add some data\n",
        "ws.append([\"X\", \"Y\"])\n",
        "ws.append([1, 2])\n",
        "ws.append([2, 3])\n",
        "ws.append([3, 4])\n",
        "ws.append([4, 5])\n",
        "ws.append([5, 6])\n",
        "\n",
        "# Create a scatter chart with markers\n",
        "chart = ScatterChart()\n",
        "chart.title = \"My Chart\"\n",
        "chart.style = 13\n",
        "chart.x_axis.title = \"X-axis\"\n",
        "chart.y_axis.title = \"Y-axis\"\n",
        "chart.legend.position = \"r\"\n",
        "\n",
        "# Add X and Y series to the chart\n",
        "x_data = Reference(ws, min_col=1, min_row=2, max_row=6)\n",
        "y_data = Reference(ws, min_col=2, min_row=2, max_row=6)\n",
        "x_series = Series(x_data, title=\"X Values\")\n",
        "y_series = Series(y_data, title=\"Y Values\")\n",
        "chart.series.append(x_series)\n",
        "chart.series.append(y_series)\n",
        "\n",
        "# Add a trendline to the chart\n",
        "trendline = Trendline(trendline_type=TrendlineType.linear, forward=0.5, backward=0.5)\n",
        "y_series.trendlines.append(trendline)\n",
        "\n",
        "# Add data labels to the chart\n",
        "data_labels = DataLabelList()\n",
        "data_labels.show_value = True\n",
        "y_series.data_labels = data_labels\n",
        "\n",
        "# Add markers to the chart\n",
        "marker = Marker(symbol=\"circle\", size=6)\n",
        "y_series.marker = marker\n",
        "\n",
        "# Set the size and position of the chart\n",
        "chart.width = Inches(6)\n",
        "chart.height = Inches(4.5)\n",
        "chart.left = Inches(0.5)\n",
        "chart.top = Inches(2)\n",
        "\n",
        "# Add the chart to the PowerPoint slide\n",
        "prs = Presentation()\n",
        "slide = prs.slides.add_slide(prs.slide_layouts[6])\n",
        "chart_data = CategoryChartData()\n",
        "chart_data.categories = [\"X Values\"]\n",
        "chart_data.add_series(\"Y Values\", y_data)\n",
        "x, y, cx, cy = Inches(0.5), Inches(2.5), Inches(9), Inches(4.5)\n",
        "chart = slide.shapes.add_chart(\n",
        "    XL_CHART_TYPE.XY_SCATTER, x, y, cx, cy, chart_data\n",
        ").chart\n",
        "chart.chart_title.text_frame.text = \"My Chart\"\n",
        "chart.has_legend = True\n",
        "chart.legend.position = XL_LEGEND_POSITION.RIGHT\n",
        "\n",
        "# Save the PowerPoint file\n",
        "prs.save(\"chart.pptx\")\n"
      ],
      "metadata": {
        "colab": {
          "base_uri": "https://localhost:8080/",
          "height": 374
        },
        "id": "C8tUA0vgV5cq",
        "outputId": "4ced5c0f-1888-4b9b-ccca-b6a1a7f17ff8"
      },
      "execution_count": 12,
      "outputs": [
        {
          "output_type": "error",
          "ename": "ImportError",
          "evalue": "ignored",
          "traceback": [
            "\u001b[0;31m---------------------------------------------------------------------------\u001b[0m",
            "\u001b[0;31mImportError\u001b[0m                               Traceback (most recent call last)",
            "\u001b[0;32m<ipython-input-12-a0ca741bdf60>\u001b[0m in \u001b[0;36m<cell line: 2>\u001b[0;34m()\u001b[0m\n\u001b[1;32m      1\u001b[0m \u001b[0;32mfrom\u001b[0m \u001b[0mopenpyxl\u001b[0m \u001b[0;32mimport\u001b[0m \u001b[0mWorkbook\u001b[0m\u001b[0;34m\u001b[0m\u001b[0;34m\u001b[0m\u001b[0m\n\u001b[0;32m----> 2\u001b[0;31m from openpyxl.chart import (\n\u001b[0m\u001b[1;32m      3\u001b[0m     \u001b[0mScatterChart\u001b[0m\u001b[0;34m,\u001b[0m\u001b[0;34m\u001b[0m\u001b[0;34m\u001b[0m\u001b[0m\n\u001b[1;32m      4\u001b[0m     \u001b[0mReference\u001b[0m\u001b[0;34m,\u001b[0m\u001b[0;34m\u001b[0m\u001b[0;34m\u001b[0m\u001b[0m\n\u001b[1;32m      5\u001b[0m     \u001b[0mSeries\u001b[0m\u001b[0;34m,\u001b[0m\u001b[0;34m\u001b[0m\u001b[0;34m\u001b[0m\u001b[0m\n",
            "\u001b[0;31mImportError\u001b[0m: cannot import name 'Trendline' from 'openpyxl.chart' (/usr/local/lib/python3.9/dist-packages/openpyxl/chart/__init__.py)",
            "",
            "\u001b[0;31m---------------------------------------------------------------------------\u001b[0;32m\nNOTE: If your import is failing due to a missing package, you can\nmanually install dependencies using either !pip or !apt.\n\nTo view examples of installing some common dependencies, click the\n\"Open Examples\" button below.\n\u001b[0;31m---------------------------------------------------------------------------\u001b[0m\n"
          ],
          "errorDetails": {
            "actions": [
              {
                "action": "open_url",
                "actionText": "Open Examples",
                "url": "/notebooks/snippets/importing_libraries.ipynb"
              }
            ]
          }
        }
      ]
    },
    {
      "cell_type": "code",
      "source": [],
      "metadata": {
        "id": "CZ9bKYwJWDRk"
      },
      "execution_count": null,
      "outputs": []
    },
    {
      "cell_type": "code",
      "source": [
        "pip install python-pptx\n"
      ],
      "metadata": {
        "id": "YvFMpq60WLza"
      },
      "execution_count": null,
      "outputs": []
    },
    {
      "cell_type": "code",
      "source": [
        "pip install python-pptx\n"
      ],
      "metadata": {
        "colab": {
          "base_uri": "https://localhost:8080/"
        },
        "id": "MejvGwFoWFcM",
        "outputId": "2a37bbca-3278-42e1-e4d1-18a3bc699a2b"
      },
      "execution_count": 10,
      "outputs": [
        {
          "output_type": "stream",
          "name": "stdout",
          "text": [
            "Looking in indexes: https://pypi.org/simple, https://us-python.pkg.dev/colab-wheels/public/simple/\n",
            "Requirement already satisfied: python-pptx in /usr/local/lib/python3.9/dist-packages (0.6.21)\n",
            "Requirement already satisfied: XlsxWriter>=0.5.7 in /usr/local/lib/python3.9/dist-packages (from python-pptx) (3.0.9)\n",
            "Requirement already satisfied: Pillow>=3.3.2 in /usr/local/lib/python3.9/dist-packages (from python-pptx) (8.4.0)\n",
            "Requirement already satisfied: lxml>=3.1.0 in /usr/local/lib/python3.9/dist-packages (from python-pptx) (4.9.2)\n"
          ]
        }
      ]
    }
  ]
}