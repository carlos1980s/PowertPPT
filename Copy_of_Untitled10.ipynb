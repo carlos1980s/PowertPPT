{
  "nbformat": 4,
  "nbformat_minor": 0,
  "metadata": {
    "colab": {
      "provenance": [],
      "authorship_tag": "ABX9TyPognza+KNTUJvhdpaWyfTM",
      "include_colab_link": true
    },
    "kernelspec": {
      "name": "python3",
      "display_name": "Python 3"
    },
    "language_info": {
      "name": "python"
    }
  },
  "cells": [
    {
      "cell_type": "markdown",
      "metadata": {
        "id": "view-in-github",
        "colab_type": "text"
      },
      "source": [
        "<a href=\"https://colab.research.google.com/github/carlos1980s/PowertPPT/blob/main/Copy_of_Untitled10.ipynb\" target=\"_parent\"><img src=\"https://colab.research.google.com/assets/colab-badge.svg\" alt=\"Open In Colab\"/></a>"
      ]
    },
    {
      "cell_type": "code",
      "execution_count": null,
      "metadata": {
        "id": "a7YSYG7XO-Lc"
      },
      "outputs": [],
      "source": []
    },
    {
      "cell_type": "code",
      "source": [
        "pip install python-pptx pandas\n"
      ],
      "metadata": {
        "colab": {
          "base_uri": "https://localhost:8080/"
        },
        "id": "l-qBdTWOPLJA",
        "outputId": "c7c64b26-2a13-46f5-b1cd-83870b1cde80"
      },
      "execution_count": 1,
      "outputs": [
        {
          "output_type": "stream",
          "name": "stdout",
          "text": [
            "Looking in indexes: https://pypi.org/simple, https://us-python.pkg.dev/colab-wheels/public/simple/\n",
            "Collecting python-pptx\n",
            "  Downloading python-pptx-0.6.21.tar.gz (10.1 MB)\n",
            "\u001b[2K     \u001b[90m━━━━━━━━━━━━━━━━━━━━━━━━━━━━━━━━━━━━━━━━\u001b[0m \u001b[32m10.1/10.1 MB\u001b[0m \u001b[31m51.2 MB/s\u001b[0m eta \u001b[36m0:00:00\u001b[0m\n",
            "\u001b[?25h  Preparing metadata (setup.py) ... \u001b[?25l\u001b[?25hdone\n",
            "Requirement already satisfied: pandas in /usr/local/lib/python3.9/dist-packages (1.4.4)\n",
            "Requirement already satisfied: lxml>=3.1.0 in /usr/local/lib/python3.9/dist-packages (from python-pptx) (4.9.2)\n",
            "Requirement already satisfied: Pillow>=3.3.2 in /usr/local/lib/python3.9/dist-packages (from python-pptx) (8.4.0)\n",
            "Collecting XlsxWriter>=0.5.7\n",
            "  Downloading XlsxWriter-3.0.9-py3-none-any.whl (152 kB)\n",
            "\u001b[2K     \u001b[90m━━━━━━━━━━━━━━━━━━━━━━━━━━━━━━━━━━━━━━━\u001b[0m \u001b[32m152.8/152.8 kB\u001b[0m \u001b[31m9.2 MB/s\u001b[0m eta \u001b[36m0:00:00\u001b[0m\n",
            "\u001b[?25hRequirement already satisfied: numpy>=1.18.5 in /usr/local/lib/python3.9/dist-packages (from pandas) (1.22.4)\n",
            "Requirement already satisfied: python-dateutil>=2.8.1 in /usr/local/lib/python3.9/dist-packages (from pandas) (2.8.2)\n",
            "Requirement already satisfied: pytz>=2020.1 in /usr/local/lib/python3.9/dist-packages (from pandas) (2022.7.1)\n",
            "Requirement already satisfied: six>=1.5 in /usr/local/lib/python3.9/dist-packages (from python-dateutil>=2.8.1->pandas) (1.16.0)\n",
            "Building wheels for collected packages: python-pptx\n",
            "  Building wheel for python-pptx (setup.py) ... \u001b[?25l\u001b[?25hdone\n",
            "  Created wheel for python-pptx: filename=python_pptx-0.6.21-py3-none-any.whl size=470949 sha256=cfc9bf2e48db97ef15d66b7d608b811da6aabfe37b45c0d8cb87c0e30a4fa7f8\n",
            "  Stored in directory: /root/.cache/pip/wheels/0e/4a/ed/9653bc799915f52dce3f04d14946fbd85cce9c3cdedc9cfa71\n",
            "Successfully built python-pptx\n",
            "Installing collected packages: XlsxWriter, python-pptx\n",
            "Successfully installed XlsxWriter-3.0.9 python-pptx-0.6.21\n"
          ]
        }
      ]
    },
    {
      "cell_type": "code",
      "source": [
        "import random\n",
        "from pptx import Presentation\n",
        "from pptx.chart.data import ChartData\n",
        "from pptx.enum.chart import XL_CHART_TYPE\n",
        "from pptx.enum.shapes import MSO_CONNECTOR_TYPE\n",
        "from pptx.util import Inches\n",
        "from pptx.dml.color import RGBColor\n",
        "\n",
        "# Generate random data\n",
        "categories = ['Jan', 'Feb', 'Mar', 'Apr', 'May', 'Jun']\n",
        "values = [random.randint(80, 200) for _ in range(len(categories))]\n",
        "\n",
        "# Create a new presentation\n",
        "presentation = Presentation()\n",
        "\n",
        "# Add a slide with a blank layout\n",
        "slide_layout = presentation.slide_layouts[5]\n",
        "slide = presentation.slides.add_slide(slide_layout)\n",
        "\n",
        "# Create chart data\n",
        "chart_data = ChartData()\n",
        "chart_data.categories = categories\n",
        "chart_data.add_series('Series 1', values)\n",
        "\n",
        "# Add a line chart to the slide\n",
        "x, y, width, height = Inches(1), Inches(1.5), Inches(8), Inches(4)\n",
        "chart_shape = slide.shapes.add_chart(XL_CHART_TYPE.LINE, x, y, width, height, chart_data)\n",
        "chart = chart_shape.chart\n",
        "\n",
        "# Add increment and decrement indicators\n",
        "for i in range(1, len(values)):\n",
        "    x1 = x + width * (i - 1) / (len(categories) - 1)\n",
        "    y1 = y + height * (1 - (values[i - 1] - min(values)) / (max(values) - min(values)))\n",
        "    x2 = x + width * i / (len(categories) - 1)\n",
        "    y2 = y + height * (1 - (values[i] - min(values)) / (max(values) - min(values)))\n",
        "\n",
        "    color = RGBColor(0, 128, 0) if values[i] > values[i - 1] else RGBColor(255, 0, 0)\n",
        "    line = slide.shapes.add_connector(MSO_CONNECTOR_TYPE.STRAIGHT, x1, y1, x2, y2).line\n",
        "    line.width = Inches(0.02)\n",
        "    line.fill.solid()\n",
        "    line.fill.fore_color.rgb = color\n",
        "\n",
        "# Save the presentation\n",
        "presentation.save('trendline_with_indicator.pptx')\n"
      ],
      "metadata": {
        "id": "vsN4xrxVz0jn"
      },
      "execution_count": 8,
      "outputs": []
    }
  ]
}