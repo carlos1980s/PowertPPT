{
  "nbformat": 4,
  "nbformat_minor": 0,
  "metadata": {
    "colab": {
      "provenance": [],
      "authorship_tag": "ABX9TyMV9YjnSEJK72QMeW5NEKZz",
      "include_colab_link": true
    },
    "kernelspec": {
      "name": "python3",
      "display_name": "Python 3"
    },
    "language_info": {
      "name": "python"
    }
  },
  "cells": [
    {
      "cell_type": "markdown",
      "metadata": {
        "id": "view-in-github",
        "colab_type": "text"
      },
      "source": [
        "<a href=\"https://colab.research.google.com/github/carlos1980s/PowertPPT/blob/main/trendline.ipynb\" target=\"_parent\"><img src=\"https://colab.research.google.com/assets/colab-badge.svg\" alt=\"Open In Colab\"/></a>"
      ]
    },
    {
      "cell_type": "code",
      "execution_count": null,
      "metadata": {
        "id": "a7YSYG7XO-Lc"
      },
      "outputs": [],
      "source": []
    },
    {
      "cell_type": "code",
      "source": [
        "pip install python-pptx pandas\n"
      ],
      "metadata": {
        "colab": {
          "base_uri": "https://localhost:8080/"
        },
        "id": "l-qBdTWOPLJA",
        "outputId": "c7c64b26-2a13-46f5-b1cd-83870b1cde80"
      },
      "execution_count": 1,
      "outputs": [
        {
          "output_type": "stream",
          "name": "stdout",
          "text": [
            "Looking in indexes: https://pypi.org/simple, https://us-python.pkg.dev/colab-wheels/public/simple/\n",
            "Collecting python-pptx\n",
            "  Downloading python-pptx-0.6.21.tar.gz (10.1 MB)\n",
            "\u001b[2K     \u001b[90m━━━━━━━━━━━━━━━━━━━━━━━━━━━━━━━━━━━━━━━━\u001b[0m \u001b[32m10.1/10.1 MB\u001b[0m \u001b[31m51.2 MB/s\u001b[0m eta \u001b[36m0:00:00\u001b[0m\n",
            "\u001b[?25h  Preparing metadata (setup.py) ... \u001b[?25l\u001b[?25hdone\n",
            "Requirement already satisfied: pandas in /usr/local/lib/python3.9/dist-packages (1.4.4)\n",
            "Requirement already satisfied: lxml>=3.1.0 in /usr/local/lib/python3.9/dist-packages (from python-pptx) (4.9.2)\n",
            "Requirement already satisfied: Pillow>=3.3.2 in /usr/local/lib/python3.9/dist-packages (from python-pptx) (8.4.0)\n",
            "Collecting XlsxWriter>=0.5.7\n",
            "  Downloading XlsxWriter-3.0.9-py3-none-any.whl (152 kB)\n",
            "\u001b[2K     \u001b[90m━━━━━━━━━━━━━━━━━━━━━━━━━━━━━━━━━━━━━━━\u001b[0m \u001b[32m152.8/152.8 kB\u001b[0m \u001b[31m9.2 MB/s\u001b[0m eta \u001b[36m0:00:00\u001b[0m\n",
            "\u001b[?25hRequirement already satisfied: numpy>=1.18.5 in /usr/local/lib/python3.9/dist-packages (from pandas) (1.22.4)\n",
            "Requirement already satisfied: python-dateutil>=2.8.1 in /usr/local/lib/python3.9/dist-packages (from pandas) (2.8.2)\n",
            "Requirement already satisfied: pytz>=2020.1 in /usr/local/lib/python3.9/dist-packages (from pandas) (2022.7.1)\n",
            "Requirement already satisfied: six>=1.5 in /usr/local/lib/python3.9/dist-packages (from python-dateutil>=2.8.1->pandas) (1.16.0)\n",
            "Building wheels for collected packages: python-pptx\n",
            "  Building wheel for python-pptx (setup.py) ... \u001b[?25l\u001b[?25hdone\n",
            "  Created wheel for python-pptx: filename=python_pptx-0.6.21-py3-none-any.whl size=470949 sha256=cfc9bf2e48db97ef15d66b7d608b811da6aabfe37b45c0d8cb87c0e30a4fa7f8\n",
            "  Stored in directory: /root/.cache/pip/wheels/0e/4a/ed/9653bc799915f52dce3f04d14946fbd85cce9c3cdedc9cfa71\n",
            "Successfully built python-pptx\n",
            "Installing collected packages: XlsxWriter, python-pptx\n",
            "Successfully installed XlsxWriter-3.0.9 python-pptx-0.6.21\n"
          ]
        }
      ]
    },
    {
      "cell_type": "code",
      "source": [
        "import random\n",
        "from pptx import Presentation\n",
        "from pptx.chart.data import ChartData\n",
        "from pptx.enum.chart import XL_CHART_TYPE\n",
        "from pptx.util import Inches\n",
        "from pptx.dml.color import RGBColor\n",
        "\n",
        "# Generate random data\n",
        "categories = ['Jan', 'Feb', 'Mar', 'Apr', 'May', 'Jun']\n",
        "values = [random.randint(80, 200) for _ in range(len(categories))]\n",
        "\n",
        "# Create a new presentation\n",
        "presentation = Presentation()\n",
        "\n",
        "# Add a slide with a blank layout\n",
        "slide_layout = presentation.slide_layouts[5]\n",
        "slide = presentation.slides.add_slide(slide_layout)\n",
        "\n",
        "# Create chart data\n",
        "chart_data = ChartData()\n",
        "chart_data.categories = categories\n",
        "chart_data.add_series('Series 1', values)\n",
        "\n",
        "# Add a line chart to the slide\n",
        "x, y, width, height = Inches(1), Inches(1.5), Inches(8), Inches(4)\n",
        "chart_shape = slide.shapes.add_chart(XL_CHART_TYPE.LINE, x, y, width, height, chart_data)\n",
        "chart = chart_shape.chart\n",
        "\n",
        "# Add increment and decrement indicators\n",
        "for i in range(1, len(values)):\n",
        "    x1 = x + width * (i - 1) / (len(categories) - 1)\n",
        "    y1 = y + height * (1 - (values[i - 1] - min(values)) / (max(values) - min(values)))\n",
        "    x2 = x + width * i / (len(categories) - 1)\n",
        "    y2 = y + height * (1 - (values[i] - min(values)) / (max(values) - min(values)))\n",
        "\n",
        "    color = RGBColor(0, 128, 0) if values[i] > values[i - 1] else RGBColor(255, 0, 0)\n",
        "    line = slide.shapes.add_connector('straight', x1, y1, x2, y2).line\n",
        "    line.width = Inches(0.02)\n",
        "    line.fill.solid()\n",
        "    line.fill.fore_color.rgb = color\n",
        "\n",
        "# Save the presentation\n",
        "presentation.save('trendline_with_indicator.pptx')\n"
      ],
      "metadata": {
        "colab": {
          "base_uri": "https://localhost:8080/",
          "height": 381
        },
        "id": "qmpo1x-MzM1f",
        "outputId": "98d01786-2589-40d2-9339-cf99182a2628"
      },
      "execution_count": 5,
      "outputs": [
        {
          "output_type": "error",
          "ename": "ValueError",
          "evalue": "ignored",
          "traceback": [
            "\u001b[0;31m---------------------------------------------------------------------------\u001b[0m",
            "\u001b[0;31mValueError\u001b[0m                                Traceback (most recent call last)",
            "\u001b[0;32m<ipython-input-5-bebb90fe0945>\u001b[0m in \u001b[0;36m<cell line: 30>\u001b[0;34m()\u001b[0m\n\u001b[1;32m     35\u001b[0m \u001b[0;34m\u001b[0m\u001b[0m\n\u001b[1;32m     36\u001b[0m     \u001b[0mcolor\u001b[0m \u001b[0;34m=\u001b[0m \u001b[0mRGBColor\u001b[0m\u001b[0;34m(\u001b[0m\u001b[0;36m0\u001b[0m\u001b[0;34m,\u001b[0m \u001b[0;36m128\u001b[0m\u001b[0;34m,\u001b[0m \u001b[0;36m0\u001b[0m\u001b[0;34m)\u001b[0m \u001b[0;32mif\u001b[0m \u001b[0mvalues\u001b[0m\u001b[0;34m[\u001b[0m\u001b[0mi\u001b[0m\u001b[0;34m]\u001b[0m \u001b[0;34m>\u001b[0m \u001b[0mvalues\u001b[0m\u001b[0;34m[\u001b[0m\u001b[0mi\u001b[0m \u001b[0;34m-\u001b[0m \u001b[0;36m1\u001b[0m\u001b[0;34m]\u001b[0m \u001b[0;32melse\u001b[0m \u001b[0mRGBColor\u001b[0m\u001b[0;34m(\u001b[0m\u001b[0;36m255\u001b[0m\u001b[0;34m,\u001b[0m \u001b[0;36m0\u001b[0m\u001b[0;34m,\u001b[0m \u001b[0;36m0\u001b[0m\u001b[0;34m)\u001b[0m\u001b[0;34m\u001b[0m\u001b[0;34m\u001b[0m\u001b[0m\n\u001b[0;32m---> 37\u001b[0;31m     \u001b[0mline\u001b[0m \u001b[0;34m=\u001b[0m \u001b[0mslide\u001b[0m\u001b[0;34m.\u001b[0m\u001b[0mshapes\u001b[0m\u001b[0;34m.\u001b[0m\u001b[0madd_connector\u001b[0m\u001b[0;34m(\u001b[0m\u001b[0;34m'straight'\u001b[0m\u001b[0;34m,\u001b[0m \u001b[0mx1\u001b[0m\u001b[0;34m,\u001b[0m \u001b[0my1\u001b[0m\u001b[0;34m,\u001b[0m \u001b[0mx2\u001b[0m\u001b[0;34m,\u001b[0m \u001b[0my2\u001b[0m\u001b[0;34m)\u001b[0m\u001b[0;34m.\u001b[0m\u001b[0mline\u001b[0m\u001b[0;34m\u001b[0m\u001b[0;34m\u001b[0m\u001b[0m\n\u001b[0m\u001b[1;32m     38\u001b[0m     \u001b[0mline\u001b[0m\u001b[0;34m.\u001b[0m\u001b[0mwidth\u001b[0m \u001b[0;34m=\u001b[0m \u001b[0mInches\u001b[0m\u001b[0;34m(\u001b[0m\u001b[0;36m0.02\u001b[0m\u001b[0;34m)\u001b[0m\u001b[0;34m\u001b[0m\u001b[0;34m\u001b[0m\u001b[0m\n\u001b[1;32m     39\u001b[0m     \u001b[0mline\u001b[0m\u001b[0;34m.\u001b[0m\u001b[0mfill\u001b[0m\u001b[0;34m.\u001b[0m\u001b[0msolid\u001b[0m\u001b[0;34m(\u001b[0m\u001b[0;34m)\u001b[0m\u001b[0;34m\u001b[0m\u001b[0;34m\u001b[0m\u001b[0m\n",
            "\u001b[0;32m/usr/local/lib/python3.9/dist-packages/pptx/shapes/shapetree.py\u001b[0m in \u001b[0;36madd_connector\u001b[0;34m(self, connector_type, begin_x, begin_y, end_x, end_y)\u001b[0m\n\u001b[1;32m    259\u001b[0m         \u001b[0mpoints\u001b[0m \u001b[0;32mas\u001b[0m \u001b[0mspecified\u001b[0m\u001b[0;34m.\u001b[0m\u001b[0;34m\u001b[0m\u001b[0;34m\u001b[0m\u001b[0m\n\u001b[1;32m    260\u001b[0m         \"\"\"\n\u001b[0;32m--> 261\u001b[0;31m         \u001b[0mcxnSp\u001b[0m \u001b[0;34m=\u001b[0m \u001b[0mself\u001b[0m\u001b[0;34m.\u001b[0m\u001b[0m_add_cxnSp\u001b[0m\u001b[0;34m(\u001b[0m\u001b[0mconnector_type\u001b[0m\u001b[0;34m,\u001b[0m \u001b[0mbegin_x\u001b[0m\u001b[0;34m,\u001b[0m \u001b[0mbegin_y\u001b[0m\u001b[0;34m,\u001b[0m \u001b[0mend_x\u001b[0m\u001b[0;34m,\u001b[0m \u001b[0mend_y\u001b[0m\u001b[0;34m)\u001b[0m\u001b[0;34m\u001b[0m\u001b[0;34m\u001b[0m\u001b[0m\n\u001b[0m\u001b[1;32m    262\u001b[0m         \u001b[0mself\u001b[0m\u001b[0;34m.\u001b[0m\u001b[0m_recalculate_extents\u001b[0m\u001b[0;34m(\u001b[0m\u001b[0;34m)\u001b[0m\u001b[0;34m\u001b[0m\u001b[0;34m\u001b[0m\u001b[0m\n\u001b[1;32m    263\u001b[0m         \u001b[0;32mreturn\u001b[0m \u001b[0mself\u001b[0m\u001b[0;34m.\u001b[0m\u001b[0m_shape_factory\u001b[0m\u001b[0;34m(\u001b[0m\u001b[0mcxnSp\u001b[0m\u001b[0;34m)\u001b[0m\u001b[0;34m\u001b[0m\u001b[0;34m\u001b[0m\u001b[0m\n",
            "\u001b[0;32m/usr/local/lib/python3.9/dist-packages/pptx/shapes/shapetree.py\u001b[0m in \u001b[0;36m_add_cxnSp\u001b[0;34m(self, connector_type, begin_x, begin_y, end_x, end_y)\u001b[0m\n\u001b[1;32m    419\u001b[0m         \u001b[0mcx\u001b[0m\u001b[0;34m,\u001b[0m \u001b[0mcy\u001b[0m \u001b[0;34m=\u001b[0m \u001b[0mabs\u001b[0m\u001b[0;34m(\u001b[0m\u001b[0mend_x\u001b[0m \u001b[0;34m-\u001b[0m \u001b[0mbegin_x\u001b[0m\u001b[0;34m)\u001b[0m\u001b[0;34m,\u001b[0m \u001b[0mabs\u001b[0m\u001b[0;34m(\u001b[0m\u001b[0mend_y\u001b[0m \u001b[0;34m-\u001b[0m \u001b[0mbegin_y\u001b[0m\u001b[0;34m)\u001b[0m\u001b[0;34m\u001b[0m\u001b[0;34m\u001b[0m\u001b[0m\n\u001b[1;32m    420\u001b[0m \u001b[0;34m\u001b[0m\u001b[0m\n\u001b[0;32m--> 421\u001b[0;31m         return self._element.add_cxnSp(\n\u001b[0m\u001b[1;32m    422\u001b[0m             \u001b[0mid_\u001b[0m\u001b[0;34m,\u001b[0m \u001b[0mname\u001b[0m\u001b[0;34m,\u001b[0m \u001b[0mconnector_type\u001b[0m\u001b[0;34m,\u001b[0m \u001b[0mx\u001b[0m\u001b[0;34m,\u001b[0m \u001b[0my\u001b[0m\u001b[0;34m,\u001b[0m \u001b[0mcx\u001b[0m\u001b[0;34m,\u001b[0m \u001b[0mcy\u001b[0m\u001b[0;34m,\u001b[0m \u001b[0mflipH\u001b[0m\u001b[0;34m,\u001b[0m \u001b[0mflipV\u001b[0m\u001b[0;34m\u001b[0m\u001b[0;34m\u001b[0m\u001b[0m\n\u001b[1;32m    423\u001b[0m         )\n",
            "\u001b[0;32m/usr/local/lib/python3.9/dist-packages/pptx/oxml/shapes/groupshape.py\u001b[0m in \u001b[0;36madd_cxnSp\u001b[0;34m(self, id_, name, type_member, x, y, cx, cy, flipH, flipV)\u001b[0m\n\u001b[1;32m     49\u001b[0m         \u001b[0mproperties\u001b[0m \u001b[0mspecified\u001b[0m \u001b[0;32min\u001b[0m \u001b[0mcall\u001b[0m\u001b[0;34m.\u001b[0m\u001b[0;34m\u001b[0m\u001b[0;34m\u001b[0m\u001b[0m\n\u001b[1;32m     50\u001b[0m         \"\"\"\n\u001b[0;32m---> 51\u001b[0;31m         \u001b[0mprst\u001b[0m \u001b[0;34m=\u001b[0m \u001b[0mMSO_CONNECTOR_TYPE\u001b[0m\u001b[0;34m.\u001b[0m\u001b[0mto_xml\u001b[0m\u001b[0;34m(\u001b[0m\u001b[0mtype_member\u001b[0m\u001b[0;34m)\u001b[0m\u001b[0;34m\u001b[0m\u001b[0;34m\u001b[0m\u001b[0m\n\u001b[0m\u001b[1;32m     52\u001b[0m         \u001b[0mcxnSp\u001b[0m \u001b[0;34m=\u001b[0m \u001b[0mCT_Connector\u001b[0m\u001b[0;34m.\u001b[0m\u001b[0mnew_cxnSp\u001b[0m\u001b[0;34m(\u001b[0m\u001b[0mid_\u001b[0m\u001b[0;34m,\u001b[0m \u001b[0mname\u001b[0m\u001b[0;34m,\u001b[0m \u001b[0mprst\u001b[0m\u001b[0;34m,\u001b[0m \u001b[0mx\u001b[0m\u001b[0;34m,\u001b[0m \u001b[0my\u001b[0m\u001b[0;34m,\u001b[0m \u001b[0mcx\u001b[0m\u001b[0;34m,\u001b[0m \u001b[0mcy\u001b[0m\u001b[0;34m,\u001b[0m \u001b[0mflipH\u001b[0m\u001b[0;34m,\u001b[0m \u001b[0mflipV\u001b[0m\u001b[0;34m)\u001b[0m\u001b[0;34m\u001b[0m\u001b[0;34m\u001b[0m\u001b[0m\n\u001b[1;32m     53\u001b[0m         \u001b[0mself\u001b[0m\u001b[0;34m.\u001b[0m\u001b[0minsert_element_before\u001b[0m\u001b[0;34m(\u001b[0m\u001b[0mcxnSp\u001b[0m\u001b[0;34m,\u001b[0m \u001b[0;34m\"p:extLst\"\u001b[0m\u001b[0;34m)\u001b[0m\u001b[0;34m\u001b[0m\u001b[0;34m\u001b[0m\u001b[0m\n",
            "\u001b[0;32m/usr/local/lib/python3.9/dist-packages/pptx/enum/base.py\u001b[0m in \u001b[0;36mto_xml\u001b[0;34m(cls, enum_val)\u001b[0m\n\u001b[1;32m    203\u001b[0m         \u001b[0mReturn\u001b[0m \u001b[0mthe\u001b[0m \u001b[0mXML\u001b[0m \u001b[0mvalue\u001b[0m \u001b[0mof\u001b[0m \u001b[0mthe\u001b[0m \u001b[0menumeration\u001b[0m \u001b[0mvalue\u001b[0m \u001b[0;34m*\u001b[0m\u001b[0menum_val\u001b[0m\u001b[0;34m*\u001b[0m\u001b[0;34m.\u001b[0m\u001b[0;34m\u001b[0m\u001b[0;34m\u001b[0m\u001b[0m\n\u001b[1;32m    204\u001b[0m         \"\"\"\n\u001b[0;32m--> 205\u001b[0;31m         \u001b[0mcls\u001b[0m\u001b[0;34m.\u001b[0m\u001b[0mvalidate\u001b[0m\u001b[0;34m(\u001b[0m\u001b[0menum_val\u001b[0m\u001b[0;34m)\u001b[0m\u001b[0;34m\u001b[0m\u001b[0;34m\u001b[0m\u001b[0m\n\u001b[0m\u001b[1;32m    206\u001b[0m         \u001b[0;32mreturn\u001b[0m \u001b[0mcls\u001b[0m\u001b[0;34m.\u001b[0m\u001b[0m_member_to_xml\u001b[0m\u001b[0;34m[\u001b[0m\u001b[0menum_val\u001b[0m\u001b[0;34m]\u001b[0m\u001b[0;34m\u001b[0m\u001b[0;34m\u001b[0m\u001b[0m\n\u001b[1;32m    207\u001b[0m \u001b[0;34m\u001b[0m\u001b[0m\n",
            "\u001b[0;32m/usr/local/lib/python3.9/dist-packages/pptx/enum/base.py\u001b[0m in \u001b[0;36mvalidate\u001b[0;34m(cls, value)\u001b[0m\n\u001b[1;32m    173\u001b[0m         \"\"\"\n\u001b[1;32m    174\u001b[0m         \u001b[0;32mif\u001b[0m \u001b[0mvalue\u001b[0m \u001b[0;32mnot\u001b[0m \u001b[0;32min\u001b[0m \u001b[0mcls\u001b[0m\u001b[0;34m.\u001b[0m\u001b[0m_valid_settings\u001b[0m\u001b[0;34m:\u001b[0m\u001b[0;34m\u001b[0m\u001b[0;34m\u001b[0m\u001b[0m\n\u001b[0;32m--> 175\u001b[0;31m             raise ValueError(\n\u001b[0m\u001b[1;32m    176\u001b[0m                 \u001b[0;34m\"%s not a member of %s enumeration\"\u001b[0m \u001b[0;34m%\u001b[0m \u001b[0;34m(\u001b[0m\u001b[0mvalue\u001b[0m\u001b[0;34m,\u001b[0m \u001b[0mcls\u001b[0m\u001b[0;34m.\u001b[0m\u001b[0m__name__\u001b[0m\u001b[0;34m)\u001b[0m\u001b[0;34m\u001b[0m\u001b[0;34m\u001b[0m\u001b[0m\n\u001b[1;32m    177\u001b[0m             )\n",
            "\u001b[0;31mValueError\u001b[0m: straight not a member of MSO_CONNECTOR_TYPE enumeration"
          ]
        }
      ]
    },
    {
      "cell_type": "code",
      "source": [
        "import random\n",
        "from pptx import Presentation\n",
        "from pptx.chart.data import ChartData\n",
        "from pptx.enum.chart import XL_CHART_TYPE\n",
        "from pptx.enum.shapes import MSO_CONNECTOR_TYPE\n",
        "from pptx.util import Inches\n",
        "from pptx.dml.color import RGBColor\n",
        "\n",
        "# Generate random data\n",
        "categories = ['Jan', 'Feb', 'Mar', 'Apr', 'May', 'Jun']\n",
        "values = [random.randint(80, 200) for _ in range(len(categories))]\n",
        "\n",
        "# Create a new presentation\n",
        "presentation = Presentation()\n",
        "\n",
        "# Add a slide with a blank layout\n",
        "slide_layout = presentation.slide_layouts[5]\n",
        "slide = presentation.slides.add_slide(slide_layout)\n",
        "\n",
        "# Create chart data\n",
        "chart_data = ChartData()\n",
        "chart_data.categories = categories\n",
        "chart_data.add_series('Series 1', values)\n",
        "\n",
        "# Add a line chart to the slide\n",
        "x, y, width, height = Inches(1), Inches(1.5), Inches(8), Inches(4)\n",
        "chart_shape = slide.shapes.add_chart(XL_CHART_TYPE.LINE, x, y, width, height, chart_data)\n",
        "chart = chart_shape.chart\n",
        "\n",
        "# Add increment and decrement indicators\n",
        "for i in range(1, len(values)):\n",
        "    x1 = x + width * (i - 1) / (len(categories) - 1)\n",
        "    y1 = y + height * (1 - (values[i - 1] - min(values)) / (max(values) - min(values)))\n",
        "    x2 = x + width * i / (len(categories) - 1)\n",
        "    y2 = y + height * (1 - (values[i] - min(values)) / (max(values) - min(values)))\n",
        "\n",
        "    color = RGBColor(0, 128, 0) if values[i] > values[i - 1] else RGBColor(255, 0, 0)\n",
        "    line = slide.shapes.add_connector(MSO_CONNECTOR_TYPE.STRAIGHT, x1, y1, x2, y2).line\n",
        "    line.width = Inches(0.02)\n",
        "    line.fill.solid()\n",
        "    line.fill.fore_color.rgb = color\n",
        "\n",
        "# Save the presentation\n",
        "presentation.save('trendline_with_indicator.pptx')\n"
      ],
      "metadata": {
        "id": "vsN4xrxVz0jn"
      },
      "execution_count": 7,
      "outputs": []
    }
  ]
}